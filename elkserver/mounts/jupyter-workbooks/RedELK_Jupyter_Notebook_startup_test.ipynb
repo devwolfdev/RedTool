{
 "cells": [
  {
   "cell_type": "code",
   "execution_count": null,
   "metadata": {},
   "outputs": [],
   "source": [
    "# This is the RedELK Welcome Jupyter Notebook\n",
    "# We will go through a few steps to make sure the connections to Elasticsearch and BloodHound/Neo4J are operational\n",
    "\n",
    "import urllib3\n",
    "from elasticsearch import Elasticsearch\n",
    "from redelk_passwords import * # this file contains all relevant credentials\n"
   ]
  },
  {
   "cell_type": "code",
   "execution_count": null,
   "metadata": {},
   "outputs": [],
   "source": [
    "# define the connection to our ES instance\n",
    "\n",
    "urllib3.disable_warnings(urllib3.exceptions.InsecureRequestWarning)\n",
    "es = Elasticsearch(\n",
    "    ['redelk-elasticsearch'],\n",
    "    http_auth=(CredESUsername, CredESPassword),\n",
    "    scheme=\"https\",\n",
    "    port=9200,\n",
    "    verify_certs=False,\n",
    ")\n"
   ]
  },
  {
   "cell_type": "code",
   "execution_count": null,
   "metadata": {},
   "outputs": [],
   "source": [
    "# Now print the available indices in ES -- this should give output\n",
    "\n",
    "es.indices.get_alias(\"*\")\n"
   ]
  },
  {
   "cell_type": "code",
   "execution_count": null,
   "metadata": {},
   "outputs": [],
   "source": [
    "# Now check the connection to Neo4j -- this should give output\n",
    "\n",
    "from py2neo import Graph, Node, Relationship\n",
    "g = Graph(\"bolt://redelk-bloodhound:7687\", auth=(CredNeo4jUsername, CredNeo4jPassword))\n",
    "g.run('call dbms.showCurrentUser();')"
   ]
  }
 ],
 "metadata": {
  "kernelspec": {
   "display_name": "Python 3",
   "language": "python",
   "name": "python3"
  },
  "language_info": {
   "codemirror_mode": {
    "name": "ipython",
    "version": 3
   },
   "file_extension": ".py",
   "mimetype": "text/x-python",
   "name": "python",
   "nbconvert_exporter": "python",
   "pygments_lexer": "ipython3",
   "version": "3.8.5"
  }
 },
 "nbformat": 4,
 "nbformat_minor": 4
}